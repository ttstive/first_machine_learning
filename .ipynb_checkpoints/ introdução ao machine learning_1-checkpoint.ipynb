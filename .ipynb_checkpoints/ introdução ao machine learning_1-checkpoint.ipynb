{
 "cells": [
  {
   "cell_type": "code",
   "execution_count": 1,
   "id": "6244d271",
   "metadata": {},
   "outputs": [],
   "source": [
    "## features [sim:1 nao: 0]: porco = 1 cachorro = 0\n",
    "\n",
    "## pelo longo: \n",
    "## perna curta : \n",
    "## latir:  \n"
   ]
  },
  {
   "cell_type": "code",
   "execution_count": 21,
   "id": "87a43583",
   "metadata": {},
   "outputs": [],
   "source": [
    "porco = [0,1,0]\n",
    "porco2 = [1,1,0]\n",
    "porco3 = [0,1,1]"
   ]
  },
  {
   "cell_type": "code",
   "execution_count": 22,
   "id": "857c338c",
   "metadata": {},
   "outputs": [],
   "source": [
    "cachorro = [1,0,1]\n",
    "cachorro2 = [0,1,1]\n",
    "cachorro3 = [1,1,1]"
   ]
  },
  {
   "cell_type": "code",
   "execution_count": 23,
   "id": "e05f7c90",
   "metadata": {},
   "outputs": [],
   "source": [
    "train_x =[porco, porco2, porco3, cachorro, cachorro2, cachorro3]\n"
   ]
  },
  {
   "cell_type": "code",
   "execution_count": 24,
   "id": "f59793d0",
   "metadata": {},
   "outputs": [],
   "source": [
    "train_y = [1,1,1,0,0,0]"
   ]
  },
  {
   "cell_type": "code",
   "execution_count": 25,
   "id": "2f78b0a5",
   "metadata": {},
   "outputs": [],
   "source": [
    "from sklearn.svm import LinearSVC"
   ]
  },
  {
   "cell_type": "code",
   "execution_count": 26,
   "id": "c750ce9f",
   "metadata": {},
   "outputs": [],
   "source": [
    "model = LinearSVC()"
   ]
  },
  {
   "cell_type": "code",
   "execution_count": 27,
   "id": "e00d94be",
   "metadata": {},
   "outputs": [
    {
     "data": {
      "text/plain": [
       "LinearSVC()"
      ]
     },
     "execution_count": 27,
     "metadata": {},
     "output_type": "execute_result"
    }
   ],
   "source": [
    "model.fit(train_x, train_y)"
   ]
  },
  {
   "cell_type": "code",
   "execution_count": 28,
   "id": "8a7e3e66",
   "metadata": {},
   "outputs": [],
   "source": [
    "animal_misterioso = [1,1,1]"
   ]
  },
  {
   "cell_type": "code",
   "execution_count": 29,
   "id": "c4b926c4",
   "metadata": {},
   "outputs": [
    {
     "data": {
      "text/plain": [
       "array([0])"
      ]
     },
     "execution_count": 29,
     "metadata": {},
     "output_type": "execute_result"
    }
   ],
   "source": [
    "model.predict([animal_misterioso])"
   ]
  },
  {
   "cell_type": "code",
   "execution_count": 30,
   "id": "22083022",
   "metadata": {},
   "outputs": [],
   "source": [
    "animal1 = [1,1,1]\n",
    "animal2 = [1,1,0]\n",
    "animal3 = [0,1,1]"
   ]
  },
  {
   "cell_type": "code",
   "execution_count": 31,
   "id": "984d8f35",
   "metadata": {},
   "outputs": [],
   "source": [
    "testes_x = [animal1,animal2,animal3]"
   ]
  },
  {
   "cell_type": "markdown",
   "id": "fdb85570",
   "metadata": {},
   "source": []
  },
  {
   "cell_type": "code",
   "execution_count": 34,
   "id": "3775e1f5",
   "metadata": {},
   "outputs": [],
   "source": [
    "previsoes = model.predict(testes_x)"
   ]
  },
  {
   "cell_type": "code",
   "execution_count": 35,
   "id": "e0f680a8",
   "metadata": {},
   "outputs": [],
   "source": [
    "teste_y = [0,1,1]"
   ]
  },
  {
   "cell_type": "code",
   "execution_count": 36,
   "id": "bcd03ec0",
   "metadata": {},
   "outputs": [
    {
     "data": {
      "text/plain": [
       "array([0, 1, 0])"
      ]
     },
     "execution_count": 36,
     "metadata": {},
     "output_type": "execute_result"
    }
   ],
   "source": [
    "previsoes"
   ]
  },
  {
   "cell_type": "code",
   "execution_count": 37,
   "id": "642d89a7",
   "metadata": {},
   "outputs": [
    {
     "data": {
      "text/plain": [
       "[0, 1, 1]"
      ]
     },
     "execution_count": 37,
     "metadata": {},
     "output_type": "execute_result"
    }
   ],
   "source": [
    "teste_y"
   ]
  },
  {
   "cell_type": "code",
   "execution_count": 38,
   "id": "f3b64c33",
   "metadata": {},
   "outputs": [
    {
     "data": {
      "text/plain": [
       "array([ True,  True, False])"
      ]
     },
     "execution_count": 38,
     "metadata": {},
     "output_type": "execute_result"
    }
   ],
   "source": [
    "previsoes == teste_y"
   ]
  },
  {
   "cell_type": "code",
   "execution_count": null,
   "id": "db5c9057",
   "metadata": {},
   "outputs": [],
   "source": []
  },
  {
   "cell_type": "code",
   "execution_count": null,
   "id": "7bdbab0e",
   "metadata": {},
   "outputs": [],
   "source": []
  },
  {
   "cell_type": "code",
   "execution_count": 39,
   "id": "30cf49a6",
   "metadata": {},
   "outputs": [
    {
     "name": "stdout",
     "output_type": "stream",
     "text": [
      "taxa de acerto:  66.67%\n"
     ]
    }
   ],
   "source": [
    "corretos = (previsoes==teste_y).sum()\n",
    "total = len(testes_x)\n",
    "taxa_de_acerto = (corretos/total)*100\n",
    "print(\"taxa de acerto: {: .2f}%\".format(taxa_de_acerto))"
   ]
  },
  {
   "cell_type": "code",
   "execution_count": 40,
   "id": "1fc7f269",
   "metadata": {},
   "outputs": [],
   "source": [
    "from sklearn.metrics import accuracy_score"
   ]
  },
  {
   "cell_type": "code",
   "execution_count": 41,
   "id": "4e07ae50",
   "metadata": {},
   "outputs": [],
   "source": [
    "taxa_acerto = accuracy_score(previsoes,teste_y)"
   ]
  },
  {
   "cell_type": "code",
   "execution_count": 42,
   "id": "49a1c482",
   "metadata": {},
   "outputs": [
    {
     "name": "stdout",
     "output_type": "stream",
     "text": [
      ":  66.67%\n"
     ]
    }
   ],
   "source": [
    "print(\": {: .2f}%\".format(taxa_acerto*100))"
   ]
  },
  {
   "cell_type": "code",
   "execution_count": 59,
   "id": "bdab9c28",
   "metadata": {},
   "outputs": [
    {
     "name": "stdout",
     "output_type": "stream",
     "text": [
      "porco\n"
     ]
    }
   ],
   "source": [
    "if testes_x[0] == 0:\n",
    "    print(\"cachorro\")\n",
    "else:\n",
    "    print(\"porco\")\n"
   ]
  },
  {
   "cell_type": "code",
   "execution_count": null,
   "id": "c2afe8f0",
   "metadata": {},
   "outputs": [],
   "source": []
  },
  {
   "cell_type": "code",
   "execution_count": null,
   "id": "79470ccd",
   "metadata": {},
   "outputs": [],
   "source": []
  },
  {
   "cell_type": "code",
   "execution_count": null,
   "id": "e1d153f7",
   "metadata": {},
   "outputs": [],
   "source": []
  },
  {
   "cell_type": "code",
   "execution_count": null,
   "id": "7d789bc9",
   "metadata": {},
   "outputs": [],
   "source": []
  },
  {
   "cell_type": "code",
   "execution_count": null,
   "id": "acb9682e",
   "metadata": {},
   "outputs": [],
   "source": []
  },
  {
   "cell_type": "code",
   "execution_count": null,
   "id": "b23164f0",
   "metadata": {},
   "outputs": [],
   "source": []
  },
  {
   "cell_type": "code",
   "execution_count": null,
   "id": "ac68562d",
   "metadata": {},
   "outputs": [],
   "source": []
  },
  {
   "cell_type": "markdown",
   "id": "43ea1ae0",
   "metadata": {},
   "source": []
  },
  {
   "cell_type": "code",
   "execution_count": null,
   "id": "bc4f4975",
   "metadata": {},
   "outputs": [],
   "source": []
  }
 ],
 "metadata": {
  "kernelspec": {
   "display_name": "Python 3 (ipykernel)",
   "language": "python",
   "name": "python3"
  },
  "language_info": {
   "codemirror_mode": {
    "name": "ipython",
    "version": 3
   },
   "file_extension": ".py",
   "mimetype": "text/x-python",
   "name": "python",
   "nbconvert_exporter": "python",
   "pygments_lexer": "ipython3",
   "version": "3.9.13"
  }
 },
 "nbformat": 4,
 "nbformat_minor": 5
}
