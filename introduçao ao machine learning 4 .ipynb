{
 "cells": [
  {
   "cell_type": "code",
   "execution_count": null,
   "id": "6adc90ee",
   "metadata": {},
   "outputs": [],
   "source": [
    "\n"
   ]
  },
  {
   "cell_type": "code",
   "execution_count": 15,
   "id": "35ef30ae",
   "metadata": {},
   "outputs": [],
   "source": [
    "import pandas as pd\n",
    "from sklearn.svm import SVC\n",
    "import numpy as np\n",
    "from sklearn.model_selection import train_test_split\n",
    "from sklearn.metrics import accuracy_score\n",
    "from sklearn.tree import DecisionTreeClassifier\n",
    "from sklearn.metrics import accuracy_score\n",
    "\n",
    "\n",
    "\n",
    "\n"
   ]
  },
  {
   "cell_type": "code",
   "execution_count": 16,
   "id": "d5bfc783",
   "metadata": {},
   "outputs": [],
   "source": [
    "dados = pd.read_csv('https://gist.githubusercontent.com/guilhermesilveira/4d1d4a16ccbf6ea4e0a64a38a24ec884/raw/afd05cb0c796d18f3f5a6537053ded308ba94bf7/car-prices.csv')"
   ]
  },
  {
   "cell_type": "code",
   "execution_count": null,
   "id": "965d0272",
   "metadata": {},
   "outputs": [],
   "source": [
    "\n",
    "\n"
   ]
  },
  {
   "cell_type": "code",
   "execution_count": null,
   "id": "f5c6781c",
   "metadata": {},
   "outputs": [],
   "source": [
    "pip install graphviz==0.10\n",
    "!sudo apt-get install graphviz"
   ]
  },
  {
   "cell_type": "markdown",
   "id": "1eeeaedd",
   "metadata": {},
   "source": [
    "\n"
   ]
  },
  {
   "cell_type": "code",
   "execution_count": null,
   "id": "78e65838",
   "metadata": {},
   "outputs": [],
   "source": []
  },
  {
   "cell_type": "code",
   "execution_count": null,
   "id": "ffccf28c",
   "metadata": {},
   "outputs": [],
   "source": [
    "dados.head(10)"
   ]
  },
  {
   "cell_type": "code",
   "execution_count": null,
   "id": "67ca609b",
   "metadata": {},
   "outputs": [],
   "source": []
  },
  {
   "cell_type": "code",
   "execution_count": null,
   "id": "8da5678b",
   "metadata": {},
   "outputs": [],
   "source": [
    "troca_coluna = {'mileage_per_year': 'milhas_por_ano', 'model_year': 'ano_modelo', 'price':'preco',\n",
    "               'sold': 'vendido'}\n",
    "dados = dados.rename(columns = troca_coluna)"
   ]
  },
  {
   "cell_type": "code",
   "execution_count": null,
   "id": "e57436f8",
   "metadata": {},
   "outputs": [],
   "source": [
    "dados.head(10)"
   ]
  },
  {
   "cell_type": "code",
   "execution_count": null,
   "id": "42121928",
   "metadata": {},
   "outputs": [],
   "source": [
    "troca = {'yes': 1,\n",
    "        'no': 0}\n",
    "dados.vendido = dados.vendido.map(troca)"
   ]
  },
  {
   "cell_type": "code",
   "execution_count": null,
   "id": "fde208ce",
   "metadata": {},
   "outputs": [],
   "source": [
    "dados.head()"
   ]
  },
  {
   "cell_type": "code",
   "execution_count": null,
   "id": "397bd3a7",
   "metadata": {},
   "outputs": [],
   "source": [
    "from datetime import datetime\n",
    "data_atual = datetime.today().year"
   ]
  },
  {
   "cell_type": "code",
   "execution_count": null,
   "id": "54bfc844",
   "metadata": {},
   "outputs": [],
   "source": [
    "dados['idade_modelo'] = data_atual - dados.ano_modelo"
   ]
  },
  {
   "cell_type": "code",
   "execution_count": null,
   "id": "6b39f9fb",
   "metadata": {},
   "outputs": [],
   "source": [
    "dados.head()"
   ]
  },
  {
   "cell_type": "code",
   "execution_count": null,
   "id": "1375a228",
   "metadata": {},
   "outputs": [],
   "source": [
    "\n",
    "dados['km_por_ano'] = dados.milhas_por_ano * 1.60934"
   ]
  },
  {
   "cell_type": "code",
   "execution_count": null,
   "id": "2a33fe99",
   "metadata": {},
   "outputs": [],
   "source": [
    "dados.head()"
   ]
  },
  {
   "cell_type": "code",
   "execution_count": null,
   "id": "8684e522",
   "metadata": {},
   "outputs": [],
   "source": [
    "dados = dados.drop(columns= ['Unnamed: 0', 'milhas_por_ano', 'ano_modelo'])"
   ]
  },
  {
   "cell_type": "code",
   "execution_count": null,
   "id": "0f1983c2",
   "metadata": {},
   "outputs": [],
   "source": [
    "dados.head()"
   ]
  },
  {
   "cell_type": "code",
   "execution_count": null,
   "id": "06388f23",
   "metadata": {},
   "outputs": [],
   "source": [
    "x = dados[['preco', 'idade_modelo', 'km_por_ano']]\n",
    "y = dados['vendido']"
   ]
  },
  {
   "cell_type": "code",
   "execution_count": null,
   "id": "21b05f58",
   "metadata": {},
   "outputs": [],
   "source": [
    "\n",
    "from sklearn.preprocessing import StandardScaler\n",
    "from sklearn.model_selection import train_test_split\n",
    "from sklearn.svm import SVC\n",
    "from sklearn.metrics import accuracy_score\n",
    "\n",
    "SEED = 5\n",
    "np.random.seed(SEED)\n",
    "raw_treino_x, raw_teste_x, treino_y, teste_y = train_test_split(x, y, test_size = 0.25,\n",
    "                                                         stratify = y)\n",
    "print(\"Treinaremos com %d elementos e testaremos com %d elementos\" % (len(raw_treino_x), len(raw_teste_x)))\n",
    "\n",
    "scaler = StandardScaler()\n",
    "scaler.fit(raw_treino_x)\n",
    "treino_x = scaler.transform(raw_treino_x)\n",
    "teste_x = scaler.transform(raw_teste_x)\n",
    "\n",
    "modelo = SVC()\n",
    "modelo.fit(raw_treino_x, treino_y)\n",
    "previsoes = modelo.predict(raw_teste_x)\n",
    "\n",
    "acuracia = accuracy_score(teste_y, previsoes) * 100\n",
    "print(\"A acurácia foi %.2f%%\" % acuracia)"
   ]
  },
  {
   "cell_type": "code",
   "execution_count": null,
   "id": "5742a919",
   "metadata": {},
   "outputs": [],
   "source": []
  },
  {
   "cell_type": "code",
   "execution_count": null,
   "id": "86082bc6",
   "metadata": {},
   "outputs": [],
   "source": [
    "from sklearn.dummy import DummyClassifier\n",
    "dummy_stratified = DummyClassifier(strategy='stratified')\n",
    "dummy_stratified.fit(treino_x, treino_y)\n",
    "acuracia = dummy_stratified.score(teste_x,teste_y)*100\n",
    "\n",
    "print(\"A acurácia do dummy foi %.2f%%\" % acuracia)"
   ]
  },
  {
   "cell_type": "code",
   "execution_count": null,
   "id": "1a6e2acf",
   "metadata": {},
   "outputs": [],
   "source": [
    "from sklearn.dummy import DummyClassifier\n",
    "dummy_most_frequent = DummyClassifier()\n",
    "dummy_most_frequent.fit(treino_x, treino_y)\n",
    "acuracia = dummy_most_frequent.score(teste_x, teste_y)*100\n",
    "\n",
    "\n",
    "print(\"A acurácia do most_frequent foi %.2f%%\" % acuracia)"
   ]
  },
  {
   "cell_type": "code",
   "execution_count": null,
   "id": "b96205a1",
   "metadata": {},
   "outputs": [],
   "source": [
    "from sklearn.preprocessing import StandardScaler\n",
    "from sklearn.model_selection import train_test_split\n",
    "\n",
    "\n",
    "SEED = 5\n",
    "np.random.seed(SEED)\n",
    "raw_treino_x, raw_teste_x, treino_y, teste_y = train_test_split(x, y, test_size = 0.25,\n",
    "                                                         stratify = y)\n",
    "print(\"Treinaremos com %d elementos e testaremos com %d elementos\" % (len(treino_x), len(teste_x)))\n",
    "\n",
    "modelo = DecisionTreeClassifier(max_depth=2)\n",
    "modelo.fit(raw_treino_x, treino_y)\n",
    "previsoes = modelo.predict(raw_teste_x)\n",
    "\n",
    "acuracia = accuracy_score(teste_y, previsoes) * 100\n",
    "print(\"A acurácia foi %.2f%%\" % acuracia)\n"
   ]
  },
  {
   "cell_type": "code",
   "execution_count": null,
   "id": "90943d13",
   "metadata": {},
   "outputs": [],
   "source": [
    "from sklearn.tree import export_graphviz\n",
    "import graphviz\n",
    "\n",
    "dot_data = export_graphviz(modelo, out_file=None)\n",
    "grafico = graphviz.Source(dot_data)\n",
    "grafico"
   ]
  },
  {
   "cell_type": "code",
   "execution_count": null,
   "id": "7ef9f581",
   "metadata": {},
   "outputs": [],
   "source": [
    "from sklearn.tree import export_graphviz\n",
    "import graphviz\n",
    "\n",
    "features = x.columns\n",
    "dot_data = export_graphviz(modelo, out_file=None,\n",
    "                           filled = True, rounded = True,\n",
    "                           feature_names = features,\n",
    "                          class_names = [\"não\", \"sim\"])\n",
    "grafico = graphviz.Source(dot_data)\n",
    "grafico\n"
   ]
  },
  {
   "cell_type": "code",
   "execution_count": null,
   "id": "63519c87",
   "metadata": {},
   "outputs": [],
   "source": []
  },
  {
   "cell_type": "code",
   "execution_count": null,
   "id": "e9a4f03e",
   "metadata": {},
   "outputs": [],
   "source": []
  }
 ],
 "metadata": {
  "kernelspec": {
   "display_name": "Python 3 (ipykernel)",
   "language": "python",
   "name": "python3"
  },
  "language_info": {
   "codemirror_mode": {
    "name": "ipython",
    "version": 3
   },
   "file_extension": ".py",
   "mimetype": "text/x-python",
   "name": "python",
   "nbconvert_exporter": "python",
   "pygments_lexer": "ipython3",
   "version": "3.9.13"
  }
 },
 "nbformat": 4,
 "nbformat_minor": 5
}
